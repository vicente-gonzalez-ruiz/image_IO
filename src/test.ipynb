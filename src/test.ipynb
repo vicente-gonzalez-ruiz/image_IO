{
 "cells": [
  {
   "cell_type": "markdown",
   "id": "ea2d178d",
   "metadata": {},
   "source": [
    "# Usar mejor skimage.io"
   ]
  },
  {
   "cell_type": "code",
   "execution_count": 1,
   "id": "697bb6a9-796b-49d3-81be-8ed59fca6171",
   "metadata": {},
   "outputs": [],
   "source": [
    "import image_IO"
   ]
  },
  {
   "cell_type": "code",
   "execution_count": 2,
   "id": "bfb4fa91",
   "metadata": {},
   "outputs": [],
   "source": [
    "import requests"
   ]
  },
  {
   "cell_type": "code",
   "execution_count": null,
   "id": "8fbb040b-38c9-4009-9b9f-9ce4ab428951",
   "metadata": {},
   "outputs": [],
   "source": [
    "image_IO.image_1.read()"
   ]
  }
 ],
 "metadata": {
  "kernelspec": {
   "display_name": "Python 3 (ipykernel)",
   "language": "python",
   "name": "python3"
  },
  "language_info": {
   "codemirror_mode": {
    "name": "ipython",
    "version": 3
   },
   "file_extension": ".py",
   "mimetype": "text/x-python",
   "name": "python",
   "nbconvert_exporter": "python",
   "pygments_lexer": "ipython3",
   "version": "3.10.12"
  }
 },
 "nbformat": 4,
 "nbformat_minor": 5
}
