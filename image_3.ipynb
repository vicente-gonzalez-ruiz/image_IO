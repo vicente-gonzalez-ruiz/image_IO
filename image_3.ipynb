{
 "cells": [
  {
   "cell_type": "markdown",
   "metadata": {},
   "source": [
    "# Testing the `image_3` module"
   ]
  },
  {
   "cell_type": "code",
   "execution_count": null,
   "metadata": {},
   "outputs": [],
   "source": [
    "import numpy as np\n",
    "import matplotlib\n",
    "import matplotlib.pyplot as plt\n",
    "%matplotlib inline\n",
    "import image_3 as image"
   ]
  },
  {
   "cell_type": "code",
   "execution_count": null,
   "metadata": {},
   "outputs": [],
   "source": [
    "x = image.read(\"../sequences/lena_color/\", 0)"
   ]
  },
  {
   "cell_type": "code",
   "execution_count": null,
   "metadata": {},
   "outputs": [],
   "source": [
    "def normalize(img):\n",
    "    max_component = np.max(img)\n",
    "    min_component = np.min(img)\n",
    "    max_min_component = max_component - min_component\n",
    "    return (img-min_component)/max_min_component\n",
    "\n",
    "def show_image(image, prefix):\n",
    "    #image = normalize(image)\n",
    "    plt.figure(figsize=(10,10))\n",
    "    plt.title(prefix, fontsize=20)\n",
    "    plt.imshow(image)"
   ]
  },
  {
   "cell_type": "code",
   "execution_count": null,
   "metadata": {},
   "outputs": [],
   "source": [
    "image.show(x, \"../sequences/lena_color/000.png\")"
   ]
  },
  {
   "cell_type": "code",
   "execution_count": null,
   "metadata": {},
   "outputs": [],
   "source": [
    "image.write(x, \"/tmp/\", 0)"
   ]
  },
  {
   "cell_type": "code",
   "execution_count": null,
   "metadata": {},
   "outputs": [],
   "source": [
    "y = image.read(\"/tmp/\", 0)"
   ]
  },
  {
   "cell_type": "code",
   "execution_count": null,
   "metadata": {},
   "outputs": [],
   "source": [
    "show_image(y, \"/tmp/000.png\")"
   ]
  },
  {
   "cell_type": "code",
   "execution_count": null,
   "metadata": {},
   "outputs": [],
   "source": [
    "show_image(x-y, \"differences\")"
   ]
  },
  {
   "cell_type": "code",
   "execution_count": null,
   "metadata": {},
   "outputs": [],
   "source": [
    "(x-y).max()"
   ]
  },
  {
   "cell_type": "code",
   "execution_count": null,
   "metadata": {},
   "outputs": [],
   "source": [
    "red_image = np.zeros(shape=(512, 512, 3), dtype=np.uint8)\n",
    "red_image[..., 0] = 155\n",
    "show_image(red_image, \"\")\n",
    "image.write(red_image, \"/tmp/red_\", 0)\n",
    "_red_image = image.read(\"/tmp/red_\", 0)\n",
    "show_image(_red_image, \"\")"
   ]
  },
  {
   "cell_type": "code",
   "execution_count": null,
   "metadata": {},
   "outputs": [],
   "source": [
    "!file /tmp/red_000.png"
   ]
  },
  {
   "cell_type": "code",
   "execution_count": null,
   "metadata": {},
   "outputs": [],
   "source": [
    "!display /tmp/red_000.png"
   ]
  },
  {
   "cell_type": "code",
   "execution_count": null,
   "metadata": {},
   "outputs": [],
   "source": [
    "green_image = np.zeros(shape=(512, 512, 3), dtype=np.uint8)\n",
    "green_image[..., 1] = 155\n",
    "show_image(green_image, \"\")\n",
    "image.write(green_image, \"/tmp/green_\", 0)\n",
    "_green_image = image.read(\"/tmp/green_\", 0)\n",
    "show_image(_green_image, \"\")"
   ]
  },
  {
   "cell_type": "code",
   "execution_count": null,
   "metadata": {},
   "outputs": [],
   "source": [
    "!file /tmp/green_000.png"
   ]
  },
  {
   "cell_type": "code",
   "execution_count": null,
   "metadata": {},
   "outputs": [],
   "source": [
    "!display /tmp/green_000.png"
   ]
  },
  {
   "cell_type": "code",
   "execution_count": null,
   "metadata": {},
   "outputs": [],
   "source": [
    "blue_image = np.zeros(shape=(512, 512, 3), dtype=np.uint8)\n",
    "blue_image[..., 2] = 155\n",
    "show_image(blue_image, \"\")\n",
    "image.write(blue_image, \"/tmp/blue_\", 0)\n",
    "_blue_image = image.read(\"/tmp/blue_\", 0)\n",
    "show_image(_blue_image, \"\")"
   ]
  },
  {
   "cell_type": "code",
   "execution_count": null,
   "metadata": {},
   "outputs": [],
   "source": [
    "!file /tmp/blue_000.png"
   ]
  },
  {
   "cell_type": "code",
   "execution_count": null,
   "metadata": {},
   "outputs": [],
   "source": [
    "!display /tmp/blue_000.png"
   ]
  },
  {
   "cell_type": "code",
   "execution_count": null,
   "metadata": {},
   "outputs": [],
   "source": [
    "blue_image = np.zeros(shape=(512, 512, 3), dtype=np.uint16)\n",
    "blue_image[..., 2] = 256\n",
    "show_image(blue_image, \"\")\n",
    "image.write(blue_image, \"/tmp/dark_blue16_\", 0)\n",
    "_blue_image = image.read(\"/tmp/dark_blue16_\", 0)\n",
    "show_image(_blue_image, \"\")"
   ]
  },
  {
   "cell_type": "code",
   "execution_count": null,
   "metadata": {},
   "outputs": [],
   "source": [
    "!file /tmp/dark_blue16_000.png"
   ]
  },
  {
   "cell_type": "code",
   "execution_count": null,
   "metadata": {},
   "outputs": [],
   "source": [
    "!display /tmp/dark_blue16_000.png"
   ]
  },
  {
   "cell_type": "code",
   "execution_count": null,
   "metadata": {},
   "outputs": [],
   "source": [
    "blue_image = np.zeros(shape=(512, 512, 3), dtype=np.uint16)\n",
    "blue_image[..., 2] = 56000\n",
    "show_image(blue_image, \"\")\n",
    "image.write(blue_image, \"/tmp/blue16_\", 0)\n",
    "_blue_image = image.read(\"/tmp/blue16_\", 0)\n",
    "show_image(_blue_image, \"\")"
   ]
  },
  {
   "cell_type": "code",
   "execution_count": null,
   "metadata": {},
   "outputs": [],
   "source": [
    "!file /tmp/blue16_000.png"
   ]
  },
  {
   "cell_type": "code",
   "execution_count": null,
   "metadata": {},
   "outputs": [],
   "source": [
    "!display /tmp/blue16_000.png"
   ]
  }
 ],
 "metadata": {
  "kernelspec": {
   "display_name": "Python 3 (ipykernel)",
   "language": "python",
   "name": "python3"
  },
  "language_info": {
   "codemirror_mode": {
    "name": "ipython",
    "version": 3
   },
   "file_extension": ".py",
   "mimetype": "text/x-python",
   "name": "python",
   "nbconvert_exporter": "python",
   "pygments_lexer": "ipython3",
   "version": "3.10.4"
  }
 },
 "nbformat": 4,
 "nbformat_minor": 4
}
